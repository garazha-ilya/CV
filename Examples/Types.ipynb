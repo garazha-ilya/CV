{
 "cells": [
  {
   "cell_type": "markdown",
   "metadata": {},
   "source": [
    "# Типы в Julia"
   ]
  },
  {
   "cell_type": "markdown",
   "metadata": {},
   "source": [
    "- **Примитивный тип**: тип, определяемый с помощью ключевого слова `primitive type`. Объекты примитивного типа имеют заданный фиксированный размер памяти, указанный в определении типа. 📝`Int64`,`Bool`,`Char`\n",
    "\n",
    "- **Составной тип**: тип, определяемый с помощью ключевого слова `struct`. Составные типы состоят из нуля или более полей, ссылающихся на другие объекты (примитивного или составного типа).📝`Complex`,`Rational` (поля `re, im` и `num, den`, соответственно), `Tuple`\n",
    "- **Конкретный тип**: примитивный или составной тип\n",
    "\n",
    "- **Абстрактный тип**: тип, определяемый с помощью ключевого слова `abstract type`. Абстрактные типы не имеют полей, и объекты не могут быть созданы (инстанцированы) на их основе. Кроме того, они не могут быть объявлены дочерними по отношению к конкретному типу. Также к абстрактным типам относятся не конкретные типы.📝 `Number`, `AbstractFloat`\n",
    "\n",
    "- **Изменяемый тип**: составной тип, определяемый с помощью ключевого слова `mutable struct`. Изменяемые типы могут связывать свои поля с другими объектами, отличными от тех, с которыми они были связаны во время инициализации.📝 `String`, `Dict`\n",
    "\n",
    "- **Неизменяемый тип**: все типы, кроме тех, которые определяются с помощью `mutable struct`.\n",
    "\n",
    "- **Параметрический тип**: семейство (изменяемых или неизменяемых) составных или абстрактных типов с одинаковыми именами полей и названием типа без учёта типов параметров. Определённый тип затем однозначно идентифицируется по имени параметрического типа и типу (типам) параметра (параметров). 📝  `Rational{Int8}(1,2)`, см. ниже `AbstractArray{T,N}`, `Array{T,N}`\n",
    "\n",
    "- **Исходные типы**: тип, определение которого содержится в Julia Base или в стандартной библиотеке Julia\n",
    "- **Битовый тип**: примитивный или неизменяемый составной тип, все поля которого являются битовыми типами \n",
    "\n",
    "- **Синглтон**: объект, созданный на основе составного типа, состоящего из нуля полей. 📝`Nothing`\n",
    "\n",
    "- **Контейнер**: составной тип (не обязательно изменяемый), предназначенный для ссылки на переменное количество объектов и предоставляющий методы для доступа, перебора и, в конечном итоге, изменения ссылок на другие объекты. "
   ]
  },
  {
   "cell_type": "markdown",
   "metadata": {},
   "source": [
    "### Примитивный тип"
   ]
  },
  {
   "cell_type": "code",
   "execution_count": 1,
   "metadata": {},
   "outputs": [
    {
     "name": "stdout",
     "output_type": "stream",
     "text": [
      "tr = FilledBool(Int8(10)) = 11111111\n",
      "fls = FilledBool(Int8(0)) = 00000000\n",
      "Reguale Bool true: 00000001\n"
     ]
    },
    {
     "data": {
      "text/plain": [
       "1"
      ]
     },
     "metadata": {},
     "output_type": "display_data"
    }
   ],
   "source": [
    "primitive type FilledBool  <: Signed  8 end\n",
    "\n",
    "FilledBool(x::Int8) = iszero(x) ? reinterpret(FilledBool,Int8(0)) : reinterpret(FilledBool,Int8(-1))\n",
    "Int8(x :: FilledBool) = reinterpret(Int8, x) * -1\n",
    "\n",
    "Base.show(io :: IO, x :: FilledBool) = print(io, bitstring(x))\n",
    "\n",
    "@show tr = FilledBool(Int8(10))\n",
    "@show fls = FilledBool(Int8(0))\n",
    "println(\"Reguale Bool true: \", bitstring(true))\n",
    "\n",
    "Int8(tr)"
   ]
  },
  {
   "cell_type": "code",
   "execution_count": 2,
   "metadata": {},
   "outputs": [
    {
     "data": {
      "text/plain": [
       "true"
      ]
     },
     "metadata": {},
     "output_type": "display_data"
    }
   ],
   "source": [
    "isbitstype(FilledBool)"
   ]
  },
  {
   "cell_type": "markdown",
   "metadata": {},
   "source": [
    "### Составной тип"
   ]
  },
  {
   "cell_type": "markdown",
   "metadata": {},
   "source": [
    "### Неизменяемый составной тип"
   ]
  },
  {
   "cell_type": "code",
   "execution_count": 3,
   "metadata": {},
   "outputs": [
    {
     "data": {
      "text/plain": [
       "ErrorException(\"setfield!: immutable struct of type Mountain cannot be changed\")"
      ]
     },
     "metadata": {},
     "output_type": "display_data"
    }
   ],
   "source": [
    "struct Mountain\n",
    "    first_ascent_year::Int16\n",
    "    height::UInt16\n",
    "end\n",
    "\n",
    "Everest = Mountain(1953,8848)\n",
    "Int(Everest.height)\n",
    "\n",
    "try\n",
    "    Everest.height = 9000  # нельзя менять значения полей Mountain\n",
    "catch e \n",
    "e\n",
    "end"
   ]
  },
  {
   "cell_type": "markdown",
   "metadata": {},
   "source": [
    "Каждый тип элемента *неизменяемой структуры* Mountain является *битовым*, поэтому тип Mountain  является *битовым*"
   ]
  },
  {
   "cell_type": "code",
   "execution_count": 4,
   "metadata": {},
   "outputs": [
    {
     "name": "stdout",
     "output_type": "stream",
     "text": [
      "sizeof(Mountain) = 4\n"
     ]
    },
    {
     "data": {
      "text/plain": [
       "true"
      ]
     },
     "metadata": {},
     "output_type": "display_data"
    }
   ],
   "source": [
    "@show sizeof(Mountain) # 2 поля по 2 байта = 4\n",
    "isbitstype(Mountain)"
   ]
  },
  {
   "cell_type": "markdown",
   "metadata": {},
   "source": [
    "Рассмотрим случай, когда полями неизменяемой структуры является не битовый тип.\n",
    "\n",
    "Строка хранится не как массив элементов `Char`'ов, а как указатель на массив  `Char`'ов.\n",
    "Поэтому размер структуры - 8 байт (размер указателя), а размер строки - 6 байт.\n",
    "(Хотя `sizeof(Char)=4`, в случае ASCII они будут занимать 1 байт)"
   ]
  },
  {
   "cell_type": "code",
   "execution_count": 5,
   "metadata": {},
   "outputs": [
    {
     "name": "stdout",
     "output_type": "stream",
     "text": [
      "sizeof(Moscow) = 8\n",
      "sizeof(Moscow.name) = 6\n",
      "Base.summarysize(Moscow) = 22\n"
     ]
    }
   ],
   "source": [
    "struct City\n",
    "    name::String\n",
    "end\n",
    "\n",
    "Moscow = City(\"Moscow\")\n",
    "\n",
    "Moscow.name\n",
    "\n",
    "@show sizeof(Moscow)\n",
    "@show sizeof(Moscow.name)\n",
    "@show Base.summarysize(Moscow);"
   ]
  },
  {
   "cell_type": "markdown",
   "metadata": {},
   "source": [
    "Если требуется использовать статические строки, то"
   ]
  },
  {
   "cell_type": "code",
   "execution_count": 6,
   "metadata": {},
   "outputs": [
    {
     "name": "stdout",
     "output_type": "stream",
     "text": [
      "sizeof(Moscow) = 10\n",
      "sizeof(Moscow.name) = 10\n",
      "Base.summarysize(Moscow) = 10\n"
     ]
    }
   ],
   "source": [
    "using StaticStrings\n",
    "struct StaticCity\n",
    "    name::StaticString{10}\n",
    "end\n",
    "Moscow = StaticCity(static\"Moscow\"10) # дополняется \\0 до 10\n",
    "@show sizeof(Moscow)\n",
    "@show sizeof(Moscow.name)\n",
    "@show Base.summarysize(Moscow);"
   ]
  },
  {
   "cell_type": "markdown",
   "metadata": {},
   "source": [
    "Несмотря на то, что мы не можем изменить строку, этот тип не является битовым.\n",
    "\n",
    "Т.е. важно понимать отличие между *неизменяемым* и *битовым* типами.\n",
    "\n",
    "Необычное поведение функции ismutable(\"123\") объясняется [здесь](https://github.com/JuliaLang/julia/pull/47616)"
   ]
  },
  {
   "cell_type": "code",
   "execution_count": 7,
   "metadata": {},
   "outputs": [
    {
     "name": "stdout",
     "output_type": "stream",
     "text": [
      "isbitstype(City) = false\n",
      "isbitstype(StaticCity) = true\n"
     ]
    }
   ],
   "source": [
    "@show isbitstype(City)\n",
    "@show isbitstype(StaticCity);"
   ]
  },
  {
   "cell_type": "markdown",
   "metadata": {},
   "source": [
    "Хочется отдельно отметить, что неизменяемый тип может иметь неизменяемые поля изменяемого типа.\n",
    "\n",
    "В качестве аналогии:\n",
    "Пускай у нас есть верёвочка, к которой привязан жёлтый мяч, который мы можем изменять: растягивать, завязывать в узел.\n",
    "Но мы не можем оторвать верёвочку и прикрепить к ней зелёный мяч."
   ]
  },
  {
   "cell_type": "code",
   "execution_count": 8,
   "metadata": {},
   "outputs": [
    {
     "name": "stdout",
     "output_type": "stream",
     "text": [
      "sizeof(Alex) = 24\n"
     ]
    },
    {
     "data": {
      "text/plain": [
       "24"
      ]
     },
     "metadata": {},
     "output_type": "display_data"
    }
   ],
   "source": [
    "struct Student\n",
    "    name::String\n",
    "    grade::UInt8        # класс\n",
    "    grades::Vector{Int} # оценки\n",
    " end\n",
    " Alex = Student(\"Alex\", 1, [5,5,5])\n",
    " @show sizeof(Alex)  # 8 + 1 + 8 = 17 => 24 округление до x % 8 == 0"
   ]
  },
  {
   "cell_type": "markdown",
   "metadata": {},
   "source": [
    "Как можем заметить - мы меняем элементы вектора, но не указатель на его первый элемент."
   ]
  },
  {
   "cell_type": "code",
   "execution_count": 9,
   "metadata": {},
   "outputs": [
    {
     "data": {
      "text/plain": [
       "5"
      ]
     },
     "metadata": {},
     "output_type": "display_data"
    }
   ],
   "source": [
    "# разыменование указателя на вектор (1й элемент вектора)\n",
    "unsafe_load(pointer(Alex.grades)) "
   ]
  },
  {
   "cell_type": "markdown",
   "metadata": {},
   "source": [
    "А если же мы захотим поменять не элементы вектора, а указатель на вектор, то произойдёт ошибка. "
   ]
  },
  {
   "cell_type": "code",
   "execution_count": 10,
   "metadata": {},
   "outputs": [
    {
     "name": "stdout",
     "output_type": "stream",
     "text": [
      "pointer(Alex.grades) = Ptr{Int64} @0x00000290d7ef3740\n",
      "push!(Alex.grades, 4) = [5, 5, 5, 4]\n",
      "pointer(Alex.grades) = Ptr{Int64} @0x00000290d849b7b0\n"
     ]
    },
    {
     "data": {
      "text/plain": [
       "ErrorException(\"setfield!: immutable struct of type Student cannot be changed\")"
      ]
     },
     "metadata": {},
     "output_type": "display_data"
    }
   ],
   "source": [
    "@show pointer(Alex.grades)\n",
    "@show push!(Alex.grades, 4)\n",
    "@show pointer(Alex.grades)\n",
    "try\n",
    "Alex.grades = [1, 2, 3] # здесь же мы хотим \n",
    "catch e\n",
    "    e\n",
    "end"
   ]
  },
  {
   "cell_type": "markdown",
   "metadata": {},
   "source": [
    "### Изменяемый тип\n",
    "\n",
    "В случае же изменяемого типа мы можем менять поля."
   ]
  },
  {
   "cell_type": "code",
   "execution_count": 11,
   "metadata": {},
   "outputs": [
    {
     "data": {
      "text/plain": [
       "2"
      ]
     },
     "metadata": {},
     "output_type": "display_data"
    }
   ],
   "source": [
    "mutable struct MutableStudent\n",
    "    const name::String\n",
    "    grade::UInt8        # класс\n",
    "    grades::Vector{Int} # оценки\n",
    "end\n",
    "Peter = MutableStudent(\"Peter\", 1, [5,5,5])\n",
    "Peter.grade = 2"
   ]
  },
  {
   "cell_type": "markdown",
   "metadata": {},
   "source": [
    "Но есть возможность делать некоторые поля изменяемой структуры неизменяемыми (константными).\n",
    "В этом случае, несмотря на то, что структура - изменяемая, это поле не получится поменять."
   ]
  },
  {
   "cell_type": "code",
   "execution_count": 12,
   "metadata": {},
   "outputs": [
    {
     "data": {
      "text/plain": [
       "ErrorException(\"setfield!: const field .name of type MutableStudent cannot be changed\")"
      ]
     },
     "metadata": {},
     "output_type": "display_data"
    }
   ],
   "source": [
    "try\n",
    "    Peter.name = \"Alex\"\n",
    "catch e\n",
    "    e\n",
    "end"
   ]
  },
  {
   "cell_type": "markdown",
   "metadata": {},
   "source": [
    "Можно заметить, как  теперь мы можем менять вектор на другой:"
   ]
  },
  {
   "cell_type": "code",
   "execution_count": 13,
   "metadata": {},
   "outputs": [
    {
     "name": "stdout",
     "output_type": "stream",
     "text": [
      "pointer(Peter.grades) = Ptr{Int64} @0x00000290d8609620\n",
      "Peter.grades = [2, 2, 2] = [2, 2, 2]\n",
      "pointer(Peter.grades) = Ptr{Int64} @0x00000290d8a931a0\n"
     ]
    },
    {
     "data": {
      "text/plain": [
       "Ptr{Int64} @0x00000290d8a931a0"
      ]
     },
     "metadata": {},
     "output_type": "display_data"
    }
   ],
   "source": [
    "@show pointer(Peter.grades)\n",
    "@show Peter.grades = [2,2,2]\n",
    "@show pointer(Peter.grades)"
   ]
  },
  {
   "cell_type": "markdown",
   "metadata": {},
   "source": [
    "### Отличие неизменяемой struct от  mutable struct с константными полями.\n",
    "\n",
    "Несмотря на то, что поля неизменяемой структуры и константные поля изменяемой структуры нельзя менять, есть существенная разница между объектами таких типов с одинаковыми полями. \n",
    "\n",
    "В случае с неизменяемым типом - объекты с одинаковыми полями это буквально один и тот же объект, так как все объекты с одинаковыми полями будут располагаться по одному адресу.\n",
    "\n",
    "В случае с `mutable struct` каждый из объектов с одинаковыми константными полями будут располагаться по своему уникальному адресу."
   ]
  },
  {
   "cell_type": "code",
   "execution_count": 14,
   "metadata": {},
   "outputs": [
    {
     "name": "stdout",
     "output_type": "stream",
     "text": [
      "im_obj_1 === im_obj_2 = true\n",
      "const_mut_obj_1 === const_mut_obj_2 = false\n"
     ]
    },
    {
     "data": {
      "text/plain": [
       "false"
      ]
     },
     "metadata": {},
     "output_type": "display_data"
    }
   ],
   "source": [
    "struct Immutable\n",
    "    a::Int32\n",
    "    b::Int32\n",
    " end\n",
    "\n",
    " mutable struct ConstMutable\n",
    "    const a::Int32\n",
    "    const b::Int32\n",
    "end\n",
    "\n",
    "im_obj_1 = Immutable(1,2)\n",
    "im_obj_2 = Immutable(1,2)\n",
    "\n",
    "const_mut_obj_1 = ConstMutable(1,2)\n",
    "const_mut_obj_2 = ConstMutable(1,2)\n",
    "# === означает равенство и значений и адресов в памяти\n",
    "@show im_obj_1 === im_obj_2  \n",
    "@show const_mut_obj_1 === const_mut_obj_2"
   ]
  },
  {
   "cell_type": "markdown",
   "metadata": {},
   "source": [
    "Неизменяемые структуры могут быть не такие удобные в плане интерфейса их использования.\n",
    "Но их преимуществом является размещение \"на стеке\". В то время как изменяемые структуры **обычно** хранятся \"в куче\".\n"
   ]
  },
  {
   "cell_type": "code",
   "execution_count": 15,
   "metadata": {},
   "outputs": [
    {
     "name": "stdout",
     "output_type": "stream",
     "text": [
      "0\n",
      "2\n"
     ]
    }
   ],
   "source": [
    "println(@allocations (a = Immutable(3,4); b = Immutable(3,4)))\n",
    "println(@allocations (a = ConstMutable(3,4); b = ConstMutable(3,4)))"
   ]
  },
  {
   "cell_type": "markdown",
   "metadata": {},
   "source": [
    "Однако к этому утверждению [не нужно относиться буквально](https://discourse.julialang.org/t/why-mutable-structs-are-allocated-on-the-heap/12992/27?u=garazha-ilya).\n",
    "\n",
    "Так, например, компилятор может провести оптимизации и не выделять память для изменяемых структур внутри функции, которая будет возвращать число, а не изменяемую структуру:"
   ]
  },
  {
   "cell_type": "code",
   "execution_count": 16,
   "metadata": {},
   "outputs": [
    {
     "name": "stdout",
     "output_type": "stream",
     "text": [
      "0\n",
      "0\n"
     ]
    }
   ],
   "source": [
    "\n",
    "function foo(x,y)\n",
    "    obj1 = Immutable(x,y)\n",
    "    obj2 = Immutable(y,x)\n",
    "    c = obj1.a + obj2.b\n",
    "end\n",
    "function bar(x,y)\n",
    "    obj1 = ConstMutable(x,y)\n",
    "    obj2 = ConstMutable(y,x)\n",
    "    c = obj1.a + obj2.b\n",
    "end\n",
    "println(@allocations foo(1,2))\n",
    "println(@allocations bar(1,2))"
   ]
  }
 ],
 "metadata": {
  "kernelspec": {
   "display_name": "Julia 1.10.5",
   "language": "julia",
   "name": "julia-1.10"
  },
  "language_info": {
   "file_extension": ".jl",
   "mimetype": "application/julia",
   "name": "julia",
   "version": "1.10.5"
  }
 },
 "nbformat": 4,
 "nbformat_minor": 2
}
